{
 "cells": [
  {
   "cell_type": "markdown",
   "id": "a6ace913-9909-498c-90a9-dca5fa9cc483",
   "metadata": {},
   "source": [
    "NUMPY"
   ]
  },
  {
   "cell_type": "markdown",
   "id": "2167edf8-daf0-4d58-9961-d271443821ea",
   "metadata": {},
   "source": [
    "Numpy Arrays \n",
    "- How to create NumPy arrays\n",
    "  - Transforming standart list\n",
    "  - Built-in function\n",
    "  - Generating random data"
   ]
  },
  {
   "cell_type": "code",
   "execution_count": 1,
   "id": "a85468d5-7640-478c-b44d-629fc36c31c3",
   "metadata": {},
   "outputs": [],
   "source": [
    "import numpy as np"
   ]
  },
  {
   "cell_type": "code",
   "execution_count": 2,
   "id": "c61187c9-93da-4b60-a159-e254f905ec0c",
   "metadata": {},
   "outputs": [],
   "source": [
    "mylist = [1,2,3]"
   ]
  },
  {
   "cell_type": "code",
   "execution_count": 4,
   "id": "78cf54d8-71b6-4997-8378-64fdfaa8a6c2",
   "metadata": {},
   "outputs": [
    {
     "data": {
      "text/plain": [
       "list"
      ]
     },
     "execution_count": 4,
     "metadata": {},
     "output_type": "execute_result"
    }
   ],
   "source": [
    "type(mylist)"
   ]
  },
  {
   "cell_type": "code",
   "execution_count": 5,
   "id": "8949a5cb-638e-4d88-816a-fb379f8b5401",
   "metadata": {},
   "outputs": [
    {
     "data": {
      "text/plain": [
       "array([1, 2, 3])"
      ]
     },
     "execution_count": 5,
     "metadata": {},
     "output_type": "execute_result"
    }
   ],
   "source": [
    "np.array(mylist) # to transform a python list to numpy array."
   ]
  },
  {
   "cell_type": "code",
   "execution_count": 6,
   "id": "0d3ea03b-75ea-4d68-90d1-6323dac933ce",
   "metadata": {},
   "outputs": [],
   "source": [
    "# let's reassign it to myarr\n",
    "myarr = np.array(mylist)"
   ]
  },
  {
   "cell_type": "code",
   "execution_count": 7,
   "id": "922a70fa-f8c8-4e04-8909-b2a4fae19e2e",
   "metadata": {},
   "outputs": [
    {
     "data": {
      "text/plain": [
       "array([1, 2, 3])"
      ]
     },
     "execution_count": 7,
     "metadata": {},
     "output_type": "execute_result"
    }
   ],
   "source": [
    "myarr"
   ]
  },
  {
   "cell_type": "code",
   "execution_count": 8,
   "id": "27fb2d01-ce0b-4c12-be0a-6e37785ee3c1",
   "metadata": {},
   "outputs": [
    {
     "data": {
      "text/plain": [
       "numpy.ndarray"
      ]
     },
     "execution_count": 8,
     "metadata": {},
     "output_type": "execute_result"
    }
   ],
   "source": [
    "type(myarr)"
   ]
  },
  {
   "cell_type": "code",
   "execution_count": 10,
   "id": "cc7db66f-7b27-4534-8fd5-889c20afbd47",
   "metadata": {},
   "outputs": [],
   "source": [
    "#let's create an object called my_matrix\n",
    "my_matrix = [[1,2,3], [4,5,6], [7,8,9]]"
   ]
  },
  {
   "cell_type": "code",
   "execution_count": 12,
   "id": "a482ab9a-ccfd-49d6-9f2f-40971a093c3e",
   "metadata": {},
   "outputs": [
    {
     "data": {
      "text/plain": [
       "[[1, 2, 3], [4, 5, 6], [7, 8, 9]]"
      ]
     },
     "execution_count": 12,
     "metadata": {},
     "output_type": "execute_result"
    }
   ],
   "source": [
    "# take a look at my_matrix\n",
    "my_matrix # normal pyhton list."
   ]
  },
  {
   "cell_type": "code",
   "execution_count": 13,
   "id": "37efa43b-6ddf-4d24-af23-9f2cbb8de1ae",
   "metadata": {},
   "outputs": [
    {
     "data": {
      "text/plain": [
       "array([[1, 2, 3],\n",
       "       [4, 5, 6],\n",
       "       [7, 8, 9]])"
      ]
     },
     "execution_count": 13,
     "metadata": {},
     "output_type": "execute_result"
    }
   ],
   "source": [
    "#let's pass this as a numpy array\n",
    "np.array(my_matrix)"
   ]
  },
  {
   "cell_type": "code",
   "execution_count": 14,
   "id": "5c65ebf6-3ac7-4dec-a643-3fa07910667e",
   "metadata": {},
   "outputs": [],
   "source": [
    "# numpy knows that is a 2D array.\n",
    "# using numpy to manipulate and have capabilities and functions \n",
    "# apply to 2D data sets.\n",
    "\n",
    "# we'll be using built-in functions and built-in methods with numpy."
   ]
  },
  {
   "cell_type": "code",
   "execution_count": 15,
   "id": "aa24ee7f-993a-4811-8156-4c6a06529b6f",
   "metadata": {},
   "outputs": [
    {
     "data": {
      "text/plain": [
       "array([0, 1, 2, 3, 4, 5, 6, 7, 8, 9])"
      ]
     },
     "execution_count": 15,
     "metadata": {},
     "output_type": "execute_result"
    }
   ],
   "source": [
    "# the equivalent in numpy to python's built-in range func.\n",
    "np.arange(0, 10) # it creates a numpy array that starts at 0."
   ]
  },
  {
   "cell_type": "code",
   "execution_count": 16,
   "id": "7eb7529d-3b51-4ba1-9e3f-b9b61a3bccce",
   "metadata": {},
   "outputs": [
    {
     "data": {
      "text/plain": [
       "array([ 0,  2,  4,  6,  8, 10, 12, 14, 16, 18])"
      ]
     },
     "execution_count": 16,
     "metadata": {},
     "output_type": "execute_result"
    }
   ],
   "source": [
    "# we can add step size as a third parameter.\n",
    "np.arange(0, 20, 2) # it stops at 19."
   ]
  },
  {
   "cell_type": "code",
   "execution_count": 17,
   "id": "987030ac-8b83-4d4c-b62d-3aa6d16d0913",
   "metadata": {},
   "outputs": [
    {
     "data": {
      "text/plain": [
       "array([0., 0., 0., 0., 0.])"
      ]
     },
     "execution_count": 17,
     "metadata": {},
     "output_type": "execute_result"
    }
   ],
   "source": [
    "# to create large arrays of zeros and ones when dealing with realistic data sets.\n",
    "np.zeros(5) # it produces a 1D vector of zeros.\n",
    "\n",
    "# zeros are floating point numbers by default"
   ]
  },
  {
   "cell_type": "code",
   "execution_count": 19,
   "id": "cc2c4926-898d-4252-b0c3-087782e056f9",
   "metadata": {},
   "outputs": [
    {
     "data": {
      "text/plain": [
       "array([[0., 0., 0., 0.],\n",
       "       [0., 0., 0., 0.],\n",
       "       [0., 0., 0., 0.],\n",
       "       [0., 0., 0., 0.]])"
      ]
     },
     "execution_count": 19,
     "metadata": {},
     "output_type": "execute_result"
    }
   ],
   "source": [
    "# if we want this to be a 2D array,\n",
    "np.zeros((4,4)) # passing a tuple (rows, cols)"
   ]
  },
  {
   "cell_type": "code",
   "execution_count": 20,
   "id": "e483b00a-bcd1-4f8c-b1e8-c9a4243b9059",
   "metadata": {},
   "outputs": [
    {
     "data": {
      "text/plain": [
       "array([[1., 1., 1., 1.]])"
      ]
     },
     "execution_count": 20,
     "metadata": {},
     "output_type": "execute_result"
    }
   ],
   "source": [
    "# NP ones, which is very similar.\n",
    "np.ones((1,4))"
   ]
  },
  {
   "cell_type": "code",
   "execution_count": 22,
   "id": "6ee17f0a-3f4f-4415-9a33-3b9975681ad5",
   "metadata": {},
   "outputs": [
    {
     "data": {
      "text/plain": [
       "array([ 0., 50.])"
      ]
     },
     "execution_count": 22,
     "metadata": {},
     "output_type": "execute_result"
    }
   ],
   "source": [
    "# it is for creating np array but not like arange func.\n",
    "np.linspace(0, 50, 2) \n",
    "\n",
    "# third paramerter represents how many numbers we want in between start and stop\n",
    "# by default, this end point is included."
   ]
  },
  {
   "cell_type": "code",
   "execution_count": 23,
   "id": "df024ffe-131f-4d3f-b75d-a8ff9097f40b",
   "metadata": {},
   "outputs": [
    {
     "data": {
      "text/plain": [
       "array([ 0.,  1.,  2.,  3.,  4.,  5.,  6.,  7.,  8.,  9., 10.])"
      ]
     },
     "execution_count": 23,
     "metadata": {},
     "output_type": "execute_result"
    }
   ],
   "source": [
    "np.linspace(0,10,11) # there are 11 numbers"
   ]
  },
  {
   "cell_type": "code",
   "execution_count": 24,
   "id": "bbe0e203-1f8a-4cf4-b5b1-e982555e0602",
   "metadata": {},
   "outputs": [
    {
     "data": {
      "text/plain": [
       "array([0.  , 0.25, 0.5 , 0.75, 1.  , 1.25, 1.5 , 1.75, 2.  , 2.25, 2.5 ,\n",
       "       2.75, 3.  , 3.25, 3.5 , 3.75, 4.  , 4.25, 4.5 , 4.75, 5.  ])"
      ]
     },
     "execution_count": 24,
     "metadata": {},
     "output_type": "execute_result"
    }
   ],
   "source": [
    "np.linspace(0,5, 21)"
   ]
  },
  {
   "cell_type": "code",
   "execution_count": 25,
   "id": "55d6493e-1f78-4141-98a2-9e303c7a0b3a",
   "metadata": {},
   "outputs": [
    {
     "data": {
      "text/plain": [
       "array([[1., 0., 0., 0., 0.],\n",
       "       [0., 1., 0., 0., 0.],\n",
       "       [0., 0., 1., 0., 0.],\n",
       "       [0., 0., 0., 1., 0.],\n",
       "       [0., 0., 0., 0., 1.]])"
      ]
     },
     "execution_count": 25,
     "metadata": {},
     "output_type": "execute_result"
    }
   ],
   "source": [
    "#how to create an identity matrix (square matrix)\n",
    "np.eye(5)"
   ]
  },
  {
   "cell_type": "markdown",
   "id": "4c04aa3d-52d6-41a3-bcd9-735ab95a3065",
   "metadata": {},
   "source": [
    "How we can create random distributions of data"
   ]
  },
  {
   "cell_type": "markdown",
   "id": "a9746075-cced-44ce-9979-d381acda62a6",
   "metadata": {},
   "source": [
    "* Numpy comes with its own full random library\n",
    "    * np.random - there is tons of built-in functions and classes."
   ]
  },
  {
   "cell_type": "markdown",
   "id": "27c9c4c4-90a6-43cc-9e0b-2e5e0150a755",
   "metadata": {},
   "source": [
    "Note: hit shitf + tab to give some useful information about \n",
    "parameters of functions."
   ]
  },
  {
   "cell_type": "code",
   "execution_count": null,
   "id": "44315f59-7f08-44fd-8f92-f98f835489f6",
   "metadata": {},
   "outputs": [],
   "source": [
    "# the simplest which is rand\n",
    "np.random.rand\n",
    "\n",
    "#create an array of the given shape and populate it with random \n",
    "# samples from a uniform distribution over [0, 1) \n",
    "# 0 is inclusive and 1 is exclusive. it cant return back 1.\n"
   ]
  },
  {
   "cell_type": "code",
   "execution_count": 28,
   "id": "af70c570-0b82-4459-8532-1d4cebba8183",
   "metadata": {},
   "outputs": [
    {
     "data": {
      "text/plain": [
       "array([0.60674589])"
      ]
     },
     "execution_count": 28,
     "metadata": {},
     "output_type": "execute_result"
    }
   ],
   "source": [
    "# every time you run the cell, it keeps giving us back a different\n",
    "# random number\n",
    "np.random.rand(1) "
   ]
  },
  {
   "cell_type": "code",
   "execution_count": 29,
   "id": "b4f259f3-52ee-46f9-97ba-25b701271196",
   "metadata": {},
   "outputs": [
    {
     "data": {
      "text/plain": [
       "array([[0.93672845, 0.3631066 , 0.26373181, 0.41542091, 0.82296617],\n",
       "       [0.11161728, 0.2260856 , 0.72534831, 0.08196607, 0.29160318]])"
      ]
     },
     "execution_count": 29,
     "metadata": {},
     "output_type": "execute_result"
    }
   ],
   "source": [
    "# you can also pass a shape\n",
    "np.random.rand(2, 5) \n",
    "\n",
    "# Instead you pass (the number of rows, the number of columns)"
   ]
  },
  {
   "cell_type": "markdown",
   "id": "0162b3a1-1758-468b-9688-3b5c322e2802",
   "metadata": {},
   "source": [
    "* All zeros and ones have the same likelihood of being returned"
   ]
  },
  {
   "cell_type": "markdown",
   "id": "c93abb5a-cbee-41d7-87ed-59f0a3e1d436",
   "metadata": {},
   "source": [
    "* In the normal world, thing happen to fall under a normal \n",
    " distribution"
   ]
  },
  {
   "cell_type": "code",
   "execution_count": null,
   "id": "2678ebc8-6c12-40c7-954d-133730680d8b",
   "metadata": {},
   "outputs": [],
   "source": [
    "# to create a samples from a standart normal distribution\n",
    "np.random.randn\n",
    "\n",
    "# n represents normal distributions"
   ]
  },
  {
   "cell_type": "markdown",
   "id": "37a29e7b-bd33-441e-a430-079e302777a0",
   "metadata": {},
   "source": [
    "* we can get negative numbers\n",
    "* The numbers that are closest to 0 have a higher likelihood of being selected,"
   ]
  },
  {
   "cell_type": "code",
   "execution_count": 30,
   "id": "a565c8ea-9cda-46c0-a63f-8570618f1d69",
   "metadata": {},
   "outputs": [
    {
     "data": {
      "text/plain": [
       "array([ 0.02256259,  0.39937319,  1.36653095,  0.81230037, -1.54580538,\n",
       "        0.30150975,  0.2980564 , -1.38780018,  0.60433245,  0.06931451])"
      ]
     },
     "execution_count": 30,
     "metadata": {},
     "output_type": "execute_result"
    }
   ],
   "source": [
    "np.random.randn(10) # give me 10 number in normal dist."
   ]
  },
  {
   "cell_type": "code",
   "execution_count": 31,
   "id": "d227b522-1678-49b9-80bd-72ee7d5576c7",
   "metadata": {},
   "outputs": [
    {
     "data": {
      "text/plain": [
       "array([[ 0.95033739, -0.56046162,  0.80502321],\n",
       "       [-0.86492277, -0.68155072,  0.83210521]])"
      ]
     },
     "execution_count": 31,
     "metadata": {},
     "output_type": "execute_result"
    }
   ],
   "source": [
    "np.random.randn(2,3) # aranged in a particular shape"
   ]
  },
  {
   "cell_type": "code",
   "execution_count": 33,
   "id": "ae50ac73-cd44-4240-925c-f70b3f1e4471",
   "metadata": {},
   "outputs": [
    {
     "data": {
      "text/plain": [
       "array([1, 0, 1, 9, 5])"
      ]
     },
     "execution_count": 33,
     "metadata": {},
     "output_type": "execute_result"
    }
   ],
   "source": [
    "# returns back random integers\n",
    "np.random.randint(0, 11, 5)\n",
    "\n",
    "# high is exclusive and numbers have the same likelihood\n",
    "# the third parameter is size argument"
   ]
  },
  {
   "cell_type": "code",
   "execution_count": 34,
   "id": "68d828b9-3573-4b70-b880-f9b665222dcd",
   "metadata": {},
   "outputs": [
    {
     "data": {
      "text/plain": [
       "array([[78, 57, 23, 13, 69],\n",
       "       [83, 12, 83, 18, 18],\n",
       "       [ 2, 96,  8, 50, 52],\n",
       "       [46, 16,  2, 46, 39]])"
      ]
     },
     "execution_count": 34,
     "metadata": {},
     "output_type": "execute_result"
    }
   ],
   "source": [
    "# in a shape of a 4 by 5\n",
    "np.random.randint(0, 101, (4, 5))"
   ]
  },
  {
   "cell_type": "markdown",
   "id": "f6966025-86c3-41b2-bf51-dd4886454958",
   "metadata": {},
   "source": [
    "when you're using the random numbers, it's useful to be able to set a seed. \n",
    "The seed is used to set a random state so that the random state can be reproduced.\n",
    "* The results are still random, but you're choosing an arbitrary seed number so you can get a particular sets of number.\n"
   ]
  },
  {
   "cell_type": "code",
   "execution_count": 36,
   "id": "b6e2b0dd-27a9-47ff-912e-59dc5c0f96d7",
   "metadata": {},
   "outputs": [
    {
     "data": {
      "text/plain": [
       "array([ 6,  3, 10])"
      ]
     },
     "execution_count": 36,
     "metadata": {},
     "output_type": "execute_result"
    }
   ],
   "source": [
    "# make sure that to do this in the same cell.\n",
    "np.random.seed(42) \n",
    "np.random.randint(0, 11, 3)"
   ]
  },
  {
   "cell_type": "code",
   "execution_count": 37,
   "id": "962cde07-834a-4693-b06d-5eda21ceed3f",
   "metadata": {},
   "outputs": [
    {
     "data": {
      "text/plain": [
       "array([ 6,  3, 10])"
      ]
     },
     "execution_count": 37,
     "metadata": {},
     "output_type": "execute_result"
    }
   ],
   "source": [
    "# you'll get back those same random numbers\n",
    "np.random.seed(42) \n",
    "np.random.randint(0, 11, 3)"
   ]
  },
  {
   "cell_type": "code",
   "execution_count": 38,
   "id": "1d7835dd-1f92-4872-89dd-5584dfd01eee",
   "metadata": {},
   "outputs": [],
   "source": [
    "arr = np.arange(0, 25)"
   ]
  },
  {
   "cell_type": "code",
   "execution_count": 39,
   "id": "060032d4-84a2-45a8-94b5-39743acf7bc8",
   "metadata": {},
   "outputs": [
    {
     "data": {
      "text/plain": [
       "array([ 0,  1,  2,  3,  4,  5,  6,  7,  8,  9, 10, 11, 12, 13, 14, 15, 16,\n",
       "       17, 18, 19, 20, 21, 22, 23, 24])"
      ]
     },
     "execution_count": 39,
     "metadata": {},
     "output_type": "execute_result"
    }
   ],
   "source": [
    "arr"
   ]
  },
  {
   "cell_type": "code",
   "execution_count": 40,
   "id": "8dd78d7f-07dd-452e-bcc7-f3ce1e61d758",
   "metadata": {},
   "outputs": [
    {
     "data": {
      "text/plain": [
       "array([[ 0,  1,  2,  3,  4],\n",
       "       [ 5,  6,  7,  8,  9],\n",
       "       [10, 11, 12, 13, 14],\n",
       "       [15, 16, 17, 18, 19],\n",
       "       [20, 21, 22, 23, 24]])"
      ]
     },
     "execution_count": 40,
     "metadata": {},
     "output_type": "execute_result"
    }
   ],
   "source": [
    "# reshape this\n",
    "arr.reshape(5, 5)\n",
    "\n",
    "# make sure that multiply rows and columns, they should equal the \n",
    "# same number of elements"
   ]
  },
  {
   "cell_type": "code",
   "execution_count": 41,
   "id": "8723bc23-f9a2-4f8f-bb52-8e8c764caca8",
   "metadata": {},
   "outputs": [],
   "source": [
    "ranarr = np.random.randint(0, 101, 10)"
   ]
  },
  {
   "cell_type": "code",
   "execution_count": 42,
   "id": "a6ff68aa-2c6c-4777-9573-0fcb9970f974",
   "metadata": {},
   "outputs": [
    {
     "data": {
      "text/plain": [
       "array([71, 60, 20, 82, 86, 74, 74, 87, 99, 23])"
      ]
     },
     "execution_count": 42,
     "metadata": {},
     "output_type": "execute_result"
    }
   ],
   "source": [
    "ranarr"
   ]
  },
  {
   "cell_type": "code",
   "execution_count": 43,
   "id": "ff2f02cd-dc85-442a-9891-c48d396df59b",
   "metadata": {},
   "outputs": [
    {
     "data": {
      "text/plain": [
       "99"
      ]
     },
     "execution_count": 43,
     "metadata": {},
     "output_type": "execute_result"
    }
   ],
   "source": [
    "ranarr.max()"
   ]
  },
  {
   "cell_type": "code",
   "execution_count": 44,
   "id": "b6a6714e-5946-4190-be06-53537e292797",
   "metadata": {},
   "outputs": [
    {
     "data": {
      "text/plain": [
       "20"
      ]
     },
     "execution_count": 44,
     "metadata": {},
     "output_type": "execute_result"
    }
   ],
   "source": [
    "ranarr.min()"
   ]
  },
  {
   "cell_type": "code",
   "execution_count": 46,
   "id": "42ee0bee-1a05-4382-9fbe-e455350705d0",
   "metadata": {},
   "outputs": [
    {
     "data": {
      "text/plain": [
       "8"
      ]
     },
     "execution_count": 46,
     "metadata": {},
     "output_type": "execute_result"
    }
   ],
   "source": [
    "ranarr.argmax() # max element's index"
   ]
  },
  {
   "cell_type": "code",
   "execution_count": 47,
   "id": "56f3f30d-4eee-45f1-a986-ed21220e7dc7",
   "metadata": {},
   "outputs": [
    {
     "data": {
      "text/plain": [
       "2"
      ]
     },
     "execution_count": 47,
     "metadata": {},
     "output_type": "execute_result"
    }
   ],
   "source": [
    "ranarr.argmin()"
   ]
  },
  {
   "cell_type": "code",
   "execution_count": 49,
   "id": "7ac8abb6-08eb-4df0-b3bd-4a44174e78f6",
   "metadata": {},
   "outputs": [
    {
     "data": {
      "text/plain": [
       "dtype('int32')"
      ]
     },
     "execution_count": 49,
     "metadata": {},
     "output_type": "execute_result"
    }
   ],
   "source": [
    "# datatype of an array\n",
    "ranarr.dtype"
   ]
  },
  {
   "cell_type": "code",
   "execution_count": 51,
   "id": "d518352a-4619-4017-8000-2e4610863278",
   "metadata": {},
   "outputs": [
    {
     "data": {
      "text/plain": [
       "(10,)"
      ]
     },
     "execution_count": 51,
     "metadata": {},
     "output_type": "execute_result"
    }
   ],
   "source": [
    "# shape is an attribute of an existing array\n",
    "ranarr.shape"
   ]
  },
  {
   "cell_type": "code",
   "execution_count": 52,
   "id": "1ce2f295-7ebe-432e-b271-0ff6bb7ee9c7",
   "metadata": {},
   "outputs": [
    {
     "data": {
      "text/plain": [
       "array([71, 60, 20, 82, 86, 74, 74, 87, 99, 23])"
      ]
     },
     "execution_count": 52,
     "metadata": {},
     "output_type": "execute_result"
    }
   ],
   "source": [
    "ranarr"
   ]
  },
  {
   "cell_type": "code",
   "execution_count": 54,
   "id": "12883a46-f890-4c6c-9e39-7e1ebe37558e",
   "metadata": {},
   "outputs": [],
   "source": [
    "new_ranarr = ranarr.reshape(10, 1)"
   ]
  },
  {
   "cell_type": "code",
   "execution_count": 55,
   "id": "7da7fe1f-9299-4bcb-9c2f-b368f88fd0d9",
   "metadata": {},
   "outputs": [
    {
     "data": {
      "text/plain": [
       "array([[71],\n",
       "       [60],\n",
       "       [20],\n",
       "       [82],\n",
       "       [86],\n",
       "       [74],\n",
       "       [74],\n",
       "       [87],\n",
       "       [99],\n",
       "       [23]])"
      ]
     },
     "execution_count": 55,
     "metadata": {},
     "output_type": "execute_result"
    }
   ],
   "source": [
    "new_ranarr"
   ]
  },
  {
   "cell_type": "code",
   "execution_count": 56,
   "id": "8d34f66c-4d50-42d4-a716-9e2e1d3a9dc8",
   "metadata": {},
   "outputs": [
    {
     "data": {
      "text/plain": [
       "(10, 1)"
      ]
     },
     "execution_count": 56,
     "metadata": {},
     "output_type": "execute_result"
    }
   ],
   "source": [
    "new_ranarr.shape"
   ]
  }
 ],
 "metadata": {
  "kernelspec": {
   "display_name": "mlcourse",
   "language": "python",
   "name": "mlcourse"
  },
  "language_info": {
   "codemirror_mode": {
    "name": "ipython",
    "version": 3
   },
   "file_extension": ".py",
   "mimetype": "text/x-python",
   "name": "python",
   "nbconvert_exporter": "python",
   "pygments_lexer": "ipython3",
   "version": "3.8.10"
  }
 },
 "nbformat": 4,
 "nbformat_minor": 5
}

{
 "cells": [
  {
   "cell_type": "code",
   "execution_count": 1,
   "id": "50f246ee-8759-4f66-b94b-9de8db727b00",
   "metadata": {},
   "outputs": [],
   "source": [
    "import numpy as np"
   ]
  },
  {
   "cell_type": "code",
   "execution_count": 2,
   "id": "ead7ced3-168b-42f6-a8eb-b86d7faaabee",
   "metadata": {},
   "outputs": [],
   "source": [
    "arr = np.arange(0, 11)"
   ]
  },
  {
   "cell_type": "code",
   "execution_count": 3,
   "id": "5a1489f8-aacb-4c14-8e3e-b9060ccb858e",
   "metadata": {},
   "outputs": [
    {
     "data": {
      "text/plain": [
       "array([ 0,  1,  2,  3,  4,  5,  6,  7,  8,  9, 10])"
      ]
     },
     "execution_count": 3,
     "metadata": {},
     "output_type": "execute_result"
    }
   ],
   "source": [
    "arr"
   ]
  },
  {
   "cell_type": "code",
   "execution_count": 4,
   "id": "c259b214-6f79-467b-8847-f9ae1b958af7",
   "metadata": {},
   "outputs": [
    {
     "data": {
      "text/plain": [
       "0"
      ]
     },
     "execution_count": 4,
     "metadata": {},
     "output_type": "execute_result"
    }
   ],
   "source": [
    "# simply pass in the index\n",
    "arr[0]"
   ]
  },
  {
   "cell_type": "code",
   "execution_count": 6,
   "id": "1654d39b-20b3-4630-b661-ce63f094a9cd",
   "metadata": {},
   "outputs": [
    {
     "data": {
      "text/plain": [
       "array([ 1,  2,  3,  4,  5,  6,  7,  8,  9, 10])"
      ]
     },
     "execution_count": 6,
     "metadata": {},
     "output_type": "execute_result"
    }
   ],
   "source": [
    "arr[1:] \n",
    "# you dont need to know how long an array is"
   ]
  },
  {
   "cell_type": "markdown",
   "id": "129b1d8f-0d90-4140-b572-0b441dcc9155",
   "metadata": {},
   "source": [
    "Lets discuss broadcating.\n",
    "Numpy arrays differs from python lists.\n",
    "\n",
    "* In python lists, you can only reassign parts of a list with new parts of the same shape and size.\n",
    "\n",
    "* In numpy, you can broadcast a single value accross a larger set of values.\n",
    "\n"
   ]
  },
  {
   "cell_type": "code",
   "execution_count": 7,
   "id": "ee71c0b6-854b-400b-823e-b8106a25f8a1",
   "metadata": {},
   "outputs": [],
   "source": [
    "arr[5:] = 100"
   ]
  },
  {
   "cell_type": "code",
   "execution_count": 8,
   "id": "b6e2701f-c705-4d43-9c82-e0607b8f43f9",
   "metadata": {},
   "outputs": [
    {
     "data": {
      "text/plain": [
       "array([  0,   1,   2,   3,   4, 100, 100, 100, 100, 100, 100])"
      ]
     },
     "execution_count": 8,
     "metadata": {},
     "output_type": "execute_result"
    }
   ],
   "source": [
    "arr"
   ]
  },
  {
   "cell_type": "code",
   "execution_count": 9,
   "id": "92382ce1-4ed7-4535-b7b3-1a1436e03f4e",
   "metadata": {},
   "outputs": [],
   "source": [
    "arr = np.arange(0 ,11)"
   ]
  },
  {
   "cell_type": "code",
   "execution_count": 13,
   "id": "5e1de602-e34f-4989-8a4f-2e52bacd118d",
   "metadata": {},
   "outputs": [],
   "source": [
    "slice_of_arr = arr[0:5]"
   ]
  },
  {
   "cell_type": "code",
   "execution_count": 14,
   "id": "85beeda5-d006-4e0b-87ef-ccd3b0145baf",
   "metadata": {},
   "outputs": [],
   "source": [
    "slice_of_arr[:] = 99 # broadcasting operation"
   ]
  },
  {
   "cell_type": "code",
   "execution_count": 17,
   "id": "b209b313-09b7-428b-8b66-394371ea5089",
   "metadata": {},
   "outputs": [
    {
     "data": {
      "text/plain": [
       "array([99, 99, 99, 99, 99])"
      ]
     },
     "execution_count": 17,
     "metadata": {},
     "output_type": "execute_result"
    }
   ],
   "source": [
    "# you're pointing it to the original array\n",
    "slice_of_arr"
   ]
  },
  {
   "cell_type": "code",
   "execution_count": 16,
   "id": "29fbbbec-62e4-4fd2-9ad8-d1d16e4067cf",
   "metadata": {},
   "outputs": [
    {
     "data": {
      "text/plain": [
       "array([99, 99, 99, 99, 99,  5,  6,  7,  8,  9, 10])"
      ]
     },
     "execution_count": 16,
     "metadata": {},
     "output_type": "execute_result"
    }
   ],
   "source": [
    "# broadcasting operation has affected the original array\n",
    "arr"
   ]
  },
  {
   "cell_type": "markdown",
   "id": "0e9a8d49-b4fe-4760-84e5-791edfa5ae40",
   "metadata": {},
   "source": [
    "* if you dont want to affect the original array, you would need to explicitly set a copy "
   ]
  },
  {
   "cell_type": "code",
   "execution_count": 18,
   "id": "dd01e0e5-5ea3-4e65-aa92-0a88a3e3fe50",
   "metadata": {},
   "outputs": [],
   "source": [
    "arr_copy = arr.copy()"
   ]
  },
  {
   "cell_type": "code",
   "execution_count": 19,
   "id": "5c7b1911-d37b-46b0-b2df-037f686f872e",
   "metadata": {},
   "outputs": [],
   "source": [
    "arr_copy[0:2] = 11"
   ]
  },
  {
   "cell_type": "code",
   "execution_count": 20,
   "id": "58535003-b946-416c-bf29-a3733c9c927d",
   "metadata": {},
   "outputs": [
    {
     "data": {
      "text/plain": [
       "array([11, 11, 99, 99, 99,  5,  6,  7,  8,  9, 10])"
      ]
     },
     "execution_count": 20,
     "metadata": {},
     "output_type": "execute_result"
    }
   ],
   "source": [
    "arr_copy"
   ]
  },
  {
   "cell_type": "code",
   "execution_count": 21,
   "id": "b4bd09ef-dde3-4d0b-9cda-9656ece4d9c6",
   "metadata": {},
   "outputs": [
    {
     "data": {
      "text/plain": [
       "array([99, 99, 99, 99, 99,  5,  6,  7,  8,  9, 10])"
      ]
     },
     "execution_count": 21,
     "metadata": {},
     "output_type": "execute_result"
    }
   ],
   "source": [
    "arr"
   ]
  },
  {
   "cell_type": "code",
   "execution_count": 34,
   "id": "2a37cf27-f25f-4af5-b007-b561d85230b9",
   "metadata": {},
   "outputs": [],
   "source": [
    "arr_2d = np.array([[1,2,3],[4,5,6],[3,4,4]])"
   ]
  },
  {
   "cell_type": "code",
   "execution_count": 35,
   "id": "2a01a734-ed35-4024-a38e-c4b67d2423cb",
   "metadata": {},
   "outputs": [
    {
     "data": {
      "text/plain": [
       "array([[1, 2, 3],\n",
       "       [4, 5, 6],\n",
       "       [3, 4, 4]])"
      ]
     },
     "execution_count": 35,
     "metadata": {},
     "output_type": "execute_result"
    }
   ],
   "source": [
    "arr_2d"
   ]
  },
  {
   "cell_type": "code",
   "execution_count": 24,
   "id": "f3728bc5-1053-44e2-9535-2e2ccfc955d9",
   "metadata": {},
   "outputs": [],
   "source": [
    "# indexing works the same way in 2D, except you have a dimension\n",
    "# for the rows and a dimension for columns"
   ]
  },
  {
   "cell_type": "code",
   "execution_count": 36,
   "id": "1f3ffb40-8ef6-4007-8cf2-af6c01daad89",
   "metadata": {},
   "outputs": [
    {
     "data": {
      "text/plain": [
       "(3, 3)"
      ]
     },
     "execution_count": 36,
     "metadata": {},
     "output_type": "execute_result"
    }
   ],
   "source": [
    "# we have number of rows at index 0, and number of columns at index 1\n",
    "arr_2d.shape"
   ]
  },
  {
   "cell_type": "code",
   "execution_count": 37,
   "id": "c0a017db-bc53-4df8-9b08-4d6bfa423a3f",
   "metadata": {},
   "outputs": [
    {
     "data": {
      "text/plain": [
       "array([1, 2, 3])"
      ]
     },
     "execution_count": 37,
     "metadata": {},
     "output_type": "execute_result"
    }
   ],
   "source": [
    "# to grab a single row\n",
    "arr_2d[0]"
   ]
  },
  {
   "cell_type": "code",
   "execution_count": 38,
   "id": "e27fde48-13f8-41e6-a989-5c14f363c083",
   "metadata": {},
   "outputs": [
    {
     "data": {
      "text/plain": [
       "5"
      ]
     },
     "execution_count": 38,
     "metadata": {},
     "output_type": "execute_result"
    }
   ],
   "source": [
    "# first is row and second is col, it returns 5\n",
    "arr_2d[1][1]"
   ]
  },
  {
   "cell_type": "code",
   "execution_count": 39,
   "id": "1c5d1f2f-cbb3-4a2c-b868-c6fe3adf6ee8",
   "metadata": {},
   "outputs": [
    {
     "data": {
      "text/plain": [
       "5"
      ]
     },
     "execution_count": 39,
     "metadata": {},
     "output_type": "execute_result"
    }
   ],
   "source": [
    "# most common way to get a single val\n",
    "arr_2d[1,1]"
   ]
  },
  {
   "cell_type": "code",
   "execution_count": 43,
   "id": "c7a0e452-f078-414c-89ff-718328d7a97c",
   "metadata": {},
   "outputs": [
    {
     "data": {
      "text/plain": [
       "array([[5, 6],\n",
       "       [4, 4]])"
      ]
     },
     "execution_count": 43,
     "metadata": {},
     "output_type": "execute_result"
    }
   ],
   "source": [
    "# slice of little square\n",
    "arr_2d[1:,1:] # we dont often see with real data"
   ]
  },
  {
   "cell_type": "markdown",
   "id": "f3a33b23-0119-4f75-9a1c-c33b3c88727a",
   "metadata": {},
   "source": [
    "with real data sets\n",
    "* rows stands for data points\n",
    "* columns stands for features"
   ]
  },
  {
   "cell_type": "markdown",
   "id": "4a38526f-2814-4cfc-84ec-0ffb7efd1c0a",
   "metadata": {},
   "source": [
    "Conditional Selection"
   ]
  },
  {
   "cell_type": "code",
   "execution_count": 44,
   "id": "293cfee0-bb01-4ade-a139-f1c7003df8e5",
   "metadata": {},
   "outputs": [],
   "source": [
    "arr = np.arange(1, 11)"
   ]
  },
  {
   "cell_type": "code",
   "execution_count": 45,
   "id": "ed38fedd-c858-4579-bb8a-bcf72400410b",
   "metadata": {},
   "outputs": [
    {
     "data": {
      "text/plain": [
       "array([ 1,  2,  3,  4,  5,  6,  7,  8,  9, 10])"
      ]
     },
     "execution_count": 45,
     "metadata": {},
     "output_type": "execute_result"
    }
   ],
   "source": [
    "arr"
   ]
  },
  {
   "cell_type": "code",
   "execution_count": null,
   "id": "176817e2-c6c9-471a-b939-9003290bf33f",
   "metadata": {},
   "outputs": [],
   "source": [
    "# we can broadcast a condition or a comparison."
   ]
  },
  {
   "cell_type": "code",
   "execution_count": 50,
   "id": "2572bbce-1b91-468f-8674-62b7201fd3b9",
   "metadata": {},
   "outputs": [
    {
     "data": {
      "text/plain": [
       "array([False, False, False, False,  True,  True,  True,  True,  True,\n",
       "        True])"
      ]
     },
     "execution_count": 50,
     "metadata": {},
     "output_type": "execute_result"
    }
   ],
   "source": [
    "# it returns back a numpy array of a boolean values.\n",
    "arr > 4 # do a comparison operator \n",
    "\n",
    "# which gives back a boolean array which you can use to filter out\n",
    "# original array"
   ]
  },
  {
   "cell_type": "code",
   "execution_count": 48,
   "id": "eb5faa75-6f96-4f80-987a-b30ef6cc6f54",
   "metadata": {},
   "outputs": [
    {
     "data": {
      "text/plain": [
       "array([ 5,  6,  7,  8,  9, 10])"
      ]
     },
     "execution_count": 48,
     "metadata": {},
     "output_type": "execute_result"
    }
   ],
   "source": [
    "# it will only return back the index locations of the boolean array\n",
    "# where it happens to be true.\n",
    "arr[arr > 4] "
   ]
  },
  {
   "cell_type": "code",
   "execution_count": null,
   "id": "dd6af9d1-cbf2-453a-9ddc-ca1e730b99dd",
   "metadata": {},
   "outputs": [],
   "source": []
  }
 ],
 "metadata": {
  "kernelspec": {
   "display_name": "mlcourse",
   "language": "python",
   "name": "mlcourse"
  },
  "language_info": {
   "codemirror_mode": {
    "name": "ipython",
    "version": 3
   },
   "file_extension": ".py",
   "mimetype": "text/x-python",
   "name": "python",
   "nbconvert_exporter": "python",
   "pygments_lexer": "ipython3",
   "version": "3.8.10"
  }
 },
 "nbformat": 4,
 "nbformat_minor": 5
}
